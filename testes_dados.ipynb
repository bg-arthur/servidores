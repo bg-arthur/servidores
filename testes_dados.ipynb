{
 "cells": [
  {
   "cell_type": "code",
   "execution_count": 2,
   "metadata": {},
   "outputs": [],
   "source": [
    "import pandas as pd\n",
    "import numpy as np\n",
    "import os, sys, os.path, shutil\n",
    "import zipfile\n",
    "from datetime import date, timedelta, datetime"
   ]
  },
  {
   "cell_type": "code",
   "execution_count": 19,
   "metadata": {},
   "outputs": [],
   "source": [
    "path_file_cge = \"dados mensais\\\\dados_serv_202309.csv.gz\"\n",
    "\n",
    "df = pd.read_csv(\n",
    "  path_file_cge,\n",
    "  compression='gzip', delimiter = ';', decimal = ','\n",
    ")"
   ]
  },
  {
   "cell_type": "code",
   "execution_count": 29,
   "metadata": {},
   "outputs": [
    {
     "data": {
      "text/html": [
       "<div>\n",
       "<style scoped>\n",
       "    .dataframe tbody tr th:only-of-type {\n",
       "        vertical-align: middle;\n",
       "    }\n",
       "\n",
       "    .dataframe tbody tr th {\n",
       "        vertical-align: top;\n",
       "    }\n",
       "\n",
       "    .dataframe thead th {\n",
       "        text-align: right;\n",
       "    }\n",
       "</style>\n",
       "<table border=\"1\" class=\"dataframe\">\n",
       "  <thead>\n",
       "    <tr style=\"text-align: right;\">\n",
       "      <th></th>\n",
       "      <th>ano_mes</th>\n",
       "      <th>masp</th>\n",
       "      <th>adm</th>\n",
       "      <th>nome</th>\n",
       "      <th>siglaefetivo</th>\n",
       "      <th>nmefetivo</th>\n",
       "      <th>cdcomi</th>\n",
       "      <th>desccomi</th>\n",
       "      <th>cd_funcao_gratif_gte</th>\n",
       "      <th>desc_funcao_gratif_gte</th>\n",
       "      <th>...</th>\n",
       "      <th>cd_instituicao_dotacao</th>\n",
       "      <th>sigla_instituicao_dotacao</th>\n",
       "      <th>desc_instituicao_dotacao</th>\n",
       "      <th>cd_instituicao_lotacao</th>\n",
       "      <th>sigla_instituicao_lotacao</th>\n",
       "      <th>desc_instituicao_lotacao</th>\n",
       "      <th>descsitserv</th>\n",
       "      <th>id_data_inicio</th>\n",
       "      <th>id_data_aposentadoria</th>\n",
       "      <th>id_data_desligamento</th>\n",
       "    </tr>\n",
       "  </thead>\n",
       "  <tbody>\n",
       "    <tr>\n",
       "      <th>82561</th>\n",
       "      <td>202309</td>\n",
       "      <td>2632834</td>\n",
       "      <td>1</td>\n",
       "      <td>JADYR ELON MOREIRA BRAGA</td>\n",
       "      <td>Sigla_nao_enquadrada</td>\n",
       "      <td>NAO INFORMADO</td>\n",
       "      <td>NaN</td>\n",
       "      <td>NaN</td>\n",
       "      <td>NaN</td>\n",
       "      <td>NaN</td>\n",
       "      <td>...</td>\n",
       "      <td>0</td>\n",
       "      <td>NAO INFORMADO</td>\n",
       "      <td>INSTITUICAO C/ CODIGO DE UNIDADE NAO INFORMADO</td>\n",
       "      <td>0</td>\n",
       "      <td>NAO INFORMADO</td>\n",
       "      <td>INSTITUICAO C/ CODIGO DE UNIDADE NAO INFORMADO</td>\n",
       "      <td>EFETIVO</td>\n",
       "      <td>29070</td>\n",
       "      <td>NaN</td>\n",
       "      <td>NaN</td>\n",
       "    </tr>\n",
       "  </tbody>\n",
       "</table>\n",
       "<p>1 rows × 21 columns</p>\n",
       "</div>"
      ],
      "text/plain": [
       "       ano_mes     masp  adm                      nome          siglaefetivo  \\\n",
       "82561   202309  2632834    1  JADYR ELON MOREIRA BRAGA  Sigla_nao_enquadrada   \n",
       "\n",
       "           nmefetivo cdcomi desccomi cd_funcao_gratif_gte  \\\n",
       "82561  NAO INFORMADO    NaN      NaN                  NaN   \n",
       "\n",
       "      desc_funcao_gratif_gte  ...  cd_instituicao_dotacao  \\\n",
       "82561                    NaN  ...                       0   \n",
       "\n",
       "       sigla_instituicao_dotacao  \\\n",
       "82561              NAO INFORMADO   \n",
       "\n",
       "                             desc_instituicao_dotacao cd_instituicao_lotacao  \\\n",
       "82561  INSTITUICAO C/ CODIGO DE UNIDADE NAO INFORMADO                      0   \n",
       "\n",
       "       sigla_instituicao_lotacao  \\\n",
       "82561              NAO INFORMADO   \n",
       "\n",
       "                             desc_instituicao_lotacao descsitserv  \\\n",
       "82561  INSTITUICAO C/ CODIGO DE UNIDADE NAO INFORMADO     EFETIVO   \n",
       "\n",
       "      id_data_inicio  id_data_aposentadoria  id_data_desligamento  \n",
       "82561          29070                    NaN                   NaN  \n",
       "\n",
       "[1 rows x 21 columns]"
      ]
     },
     "execution_count": 29,
     "metadata": {},
     "output_type": "execute_result"
    }
   ],
   "source": [
    "df.loc[df.cd_instituicao_dotacao == 0]"
   ]
  }
 ],
 "metadata": {
  "kernelspec": {
   "display_name": "base",
   "language": "python",
   "name": "python3"
  },
  "language_info": {
   "codemirror_mode": {
    "name": "ipython",
    "version": 3
   },
   "file_extension": ".py",
   "mimetype": "text/x-python",
   "name": "python",
   "nbconvert_exporter": "python",
   "pygments_lexer": "ipython3",
   "version": "3.9.12"
  },
  "orig_nbformat": 4
 },
 "nbformat": 4,
 "nbformat_minor": 2
}
