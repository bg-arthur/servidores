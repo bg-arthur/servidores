{
 "cells": [
  {
   "cell_type": "code",
   "execution_count": null,
   "metadata": {},
   "outputs": [
    {
     "ename": "",
     "evalue": "",
     "output_type": "error",
     "traceback": [
      "\u001b[1;31mFailed to start the Kernel. \n",
      "\u001b[1;31mUnable to start Kernel 'base (Python 3.9.12)' due to a timeout waiting for the ports to get used. \n",
      "\u001b[1;31mView Jupyter <a href='command:jupyter.viewOutput'>log</a> for further details."
     ]
    }
   ],
   "source": [
    "import pandas as pd\n",
    "import numpy as np\n",
    "import os, sys, os.path, shutil\n",
    "import zipfile\n",
    "from datetime import date, timedelta, datetime\n",
    "from pprint import pprint\n",
    "from frictionless import validate, describe, Resource"
   ]
  },
  {
   "cell_type": "code",
   "execution_count": null,
   "metadata": {},
   "outputs": [],
   "source": [
    "path_serv_data = \"upload\\\\dados_mensais\\\\\"\n",
    "serv_data = f\"dados_serv_{str(202007)}.csv.gz\"\n",
    "resource = describe(path_serv_data + serv_data)\n",
    "\n",
    "resource.to_json"
   ]
  },
  {
   "cell_type": "code",
   "execution_count": 7,
   "metadata": {},
   "outputs": [],
   "source": [
    "path_file_read = (\"C:\\\\Users\\\\m755217\\\\SEPLAG MG\\\\ASSESSORIA_ESTATISTICA_INFORMACOES - Documentos\\\\\"\n",
    "                  \"Bases CGE-ATRICON\\\\carga_mensal.txt\")\n",
    "\n",
    "df = pd.read_csv(path_file_read, encoding = 'latin-1', delimiter = ';', na_values = ['         .'])\n",
    "\n",
    "path_destino = (\"C:\\\\Users\\\\m755217\\\\SEPLAG MG\\\\ASSESSORIA_ESTATISTICA_INFORMACOES - Documentos\\\\\"\n",
    "                \"Bases CGE-ATRICON\\dados mensais\\\\\")\n",
    "lista_ano_mes = [ano_mes for ano_mes in list(df['ano_mes'].unique())]\n",
    "for ano_mes in lista_ano_mes:\n",
    "    filename = f\"dados_serv_{str(ano_mes)}\"\n",
    "    compression_options = {\"method\": \"gzip\"} \n",
    "    #\"archive_name\": f\"{filename}.csv\"}\n",
    "    df.loc[df['ano_mes'] == ano_mes].to_csv(f\"{path_destino}{filename}.csv.gz\", \n",
    "                                            index = False, \n",
    "                                            encoding = 'utf_8_sig',\n",
    "                                            sep = \";\",\n",
    "                                            decimal = ',',\n",
    "                                            compression = compression_options)\n",
    "                        "
   ]
  }
 ],
 "metadata": {
  "kernelspec": {
   "display_name": "Python 3",
   "language": "python",
   "name": "python3"
  },
  "language_info": {
   "codemirror_mode": {
    "name": "ipython",
    "version": 3
   },
   "file_extension": ".py",
   "mimetype": "text/x-python",
   "name": "python",
   "nbconvert_exporter": "python",
   "pygments_lexer": "ipython3",
   "version": "3.9.12"
  },
  "orig_nbformat": 4
 },
 "nbformat": 4,
 "nbformat_minor": 2
}
